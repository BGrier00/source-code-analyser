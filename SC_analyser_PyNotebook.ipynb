{
  "cells": [
    {
      "cell_type": "code",
      "source": [
        "from google.colab import drive\n",
        "drive.mount('/content/drive')"
      ],
      "metadata": {
        "colab": {
          "base_uri": "https://localhost:8080/"
        },
        "id": "fPymlCxJR7QO",
        "outputId": "7cf46282-254f-421d-8b2a-a74ca5377922"
      },
      "id": "fPymlCxJR7QO",
      "execution_count": 1,
      "outputs": [
        {
          "output_type": "stream",
          "name": "stdout",
          "text": [
            "Mounted at /content/drive\n"
          ]
        }
      ]
    },
    {
      "cell_type": "code",
      "execution_count": 3,
      "metadata": {
        "id": "6a864f92"
      },
      "outputs": [],
      "source": [
        "import h5py\n",
        "import pandas as pd\n",
        "import pickle\n",
        "import tensorflow as tf\n",
        "import numpy as np\n",
        "import matplotlib.pyplot as plt\n",
        "import sklearn.metrics"
      ],
      "id": "6a864f92"
    },
    {
      "cell_type": "code",
      "source": [
        "## OPENING THE DATA SETS via Google Drive\n",
        "with open('/content/drive/MyDrive/datasets/x_validate.pickle', 'rb') as handle:\n",
        "    x_validate = pickle.load(handle)\n",
        "\n",
        "with open('/content/drive/MyDrive/datasets/x_test.pickle', 'rb') as handle:\n",
        "    x_test = pickle.load(handle)\n",
        "\n",
        "with open('/content/drive/MyDrive/datasets/x_train.pickle', 'rb') as handle:\n",
        "    x_train = pickle.load(handle)\n",
        "\n",
        "with open('/content/drive/MyDrive/datasets/validate.pickle', 'rb') as handle:\n",
        "    validate = pickle.load(handle)\n",
        "\n",
        "with open('/content/drive/MyDrive/datasets/test.pickle', 'rb') as handle:\n",
        "    test = pickle.load(handle)\n",
        "\n",
        "with open('/content/drive/MyDrive/datasets/train.pickle', 'rb') as handle:\n",
        "    train = pickle.load(handle)\n",
        "\n",
        "##    SAVING THE DATA SETS \n",
        "# with open('/content/drive/MyDrive/datasets/validate.pickle', 'wb') as handle:\n",
        "#     pickle.dump(validate, handle, protocol=pickle.HIGHEST_PROTOCOL)\n",
        "\n",
        "# with open('/content/drive/MyDrive/datasets/test.pickle', 'wb') as handle:\n",
        "#     pickle.dump(test, handle, protocol=pickle.HIGHEST_PROTOCOL)\n",
        "\n",
        "# with open('/content/drive/MyDrive/datasets/train.pickle', 'wb') as handle:\n",
        "#     pickle.dump(train, handle, protocol=pickle.HIGHEST_PROTOCOL)"
      ],
      "metadata": {
        "id": "_pOB8aoTNii7"
      },
      "id": "_pOB8aoTNii7",
      "execution_count": 4,
      "outputs": []
    },
    {
      "cell_type": "code",
      "execution_count": null,
      "metadata": {
        "id": "2732a34c"
      },
      "outputs": [],
      "source": [
        "# This code is used to declare a Keras tokenizer, and to use the training data set to create its dictionary\n",
        "# Required for demonstration & front-end usage\n",
        "\n",
        "tokenizer = tf.keras.preprocessing.text.Tokenizer(num_words=10000, \n",
        "                                                  char_level=False)\n",
        "myData = []\n",
        "for byte in train['functionSource'].to_list():\n",
        "  myData.append(byte.decode(\"utf-8\"))\n",
        "tokenizer.fit_on_texts(myData)\n",
        "del(myData)\n",
        "tokenizer.num_words = 8000    # interchangeable ~8000-11000"
      ],
      "id": "2732a34c"
    },
    {
      "cell_type": "code",
      "source": [
        "# The following code is to be used for demonstration of a metric which violates CWE-119, located at the 63rd index within the Test dataset\n",
        "\n",
        "exampleTestTrue = test['functionSource'][63]      \n",
        "listEg = tokenizer.texts_to_sequences([exampleTestTrue.decode('utf-8')])\n",
        "listEg = listEg[0] \n",
        "x_listEg = tf.keras.preprocessing.sequence.pad_sequences([listEg], \n",
        "                                  maxlen=500,\n",
        "                                  padding='post')\n",
        "x_listEg = x_listEg[0]\n",
        "print(x_listEg)\n",
        "print(type(x_listEg))\n",
        "x_listEg = np.array([x_listEg])\n",
        "print(\"FINAL:\" , (model.predict([x_listEg]) > (50/100)).astype(\"int32\")[0][0])"
      ],
      "metadata": {
        "id": "KhunbxkJVhO7"
      },
      "id": "KhunbxkJVhO7",
      "execution_count": null,
      "outputs": []
    },
    {
      "cell_type": "code",
      "source": [
        "# Gradio library not pre-installed on Colab, run this to install\n",
        "!pip install -q gradio"
      ],
      "metadata": {
        "id": "-VGWb7a7RmoB",
        "colab": {
          "base_uri": "https://localhost:8080/"
        },
        "outputId": "1b2d2e36-4ce1-449f-c628-2ca0a8a43f25"
      },
      "id": "-VGWb7a7RmoB",
      "execution_count": null,
      "outputs": [
        {
          "output_type": "stream",
          "name": "stdout",
          "text": [
            "\u001b[?25l\r\u001b[K     |▌                               | 10 kB 29.7 MB/s eta 0:00:01\r\u001b[K     |█                               | 20 kB 32.8 MB/s eta 0:00:01\r\u001b[K     |█▌                              | 30 kB 21.5 MB/s eta 0:00:01\r\u001b[K     |██                              | 40 kB 17.8 MB/s eta 0:00:01\r\u001b[K     |██▌                             | 51 kB 8.1 MB/s eta 0:00:01\r\u001b[K     |███                             | 61 kB 9.5 MB/s eta 0:00:01\r\u001b[K     |███▍                            | 71 kB 9.1 MB/s eta 0:00:01\r\u001b[K     |████                            | 81 kB 9.4 MB/s eta 0:00:01\r\u001b[K     |████▍                           | 92 kB 10.5 MB/s eta 0:00:01\r\u001b[K     |█████                           | 102 kB 8.5 MB/s eta 0:00:01\r\u001b[K     |█████▍                          | 112 kB 8.5 MB/s eta 0:00:01\r\u001b[K     |█████▉                          | 122 kB 8.5 MB/s eta 0:00:01\r\u001b[K     |██████▍                         | 133 kB 8.5 MB/s eta 0:00:01\r\u001b[K     |██████▉                         | 143 kB 8.5 MB/s eta 0:00:01\r\u001b[K     |███████▍                        | 153 kB 8.5 MB/s eta 0:00:01\r\u001b[K     |███████▉                        | 163 kB 8.5 MB/s eta 0:00:01\r\u001b[K     |████████▎                       | 174 kB 8.5 MB/s eta 0:00:01\r\u001b[K     |████████▉                       | 184 kB 8.5 MB/s eta 0:00:01\r\u001b[K     |█████████▎                      | 194 kB 8.5 MB/s eta 0:00:01\r\u001b[K     |█████████▉                      | 204 kB 8.5 MB/s eta 0:00:01\r\u001b[K     |██████████▎                     | 215 kB 8.5 MB/s eta 0:00:01\r\u001b[K     |██████████▉                     | 225 kB 8.5 MB/s eta 0:00:01\r\u001b[K     |███████████▎                    | 235 kB 8.5 MB/s eta 0:00:01\r\u001b[K     |███████████▊                    | 245 kB 8.5 MB/s eta 0:00:01\r\u001b[K     |████████████▎                   | 256 kB 8.5 MB/s eta 0:00:01\r\u001b[K     |████████████▊                   | 266 kB 8.5 MB/s eta 0:00:01\r\u001b[K     |█████████████▎                  | 276 kB 8.5 MB/s eta 0:00:01\r\u001b[K     |█████████████▊                  | 286 kB 8.5 MB/s eta 0:00:01\r\u001b[K     |██████████████▏                 | 296 kB 8.5 MB/s eta 0:00:01\r\u001b[K     |██████████████▊                 | 307 kB 8.5 MB/s eta 0:00:01\r\u001b[K     |███████████████▏                | 317 kB 8.5 MB/s eta 0:00:01\r\u001b[K     |███████████████▊                | 327 kB 8.5 MB/s eta 0:00:01\r\u001b[K     |████████████████▏               | 337 kB 8.5 MB/s eta 0:00:01\r\u001b[K     |████████████████▋               | 348 kB 8.5 MB/s eta 0:00:01\r\u001b[K     |█████████████████▏              | 358 kB 8.5 MB/s eta 0:00:01\r\u001b[K     |█████████████████▋              | 368 kB 8.5 MB/s eta 0:00:01\r\u001b[K     |██████████████████▏             | 378 kB 8.5 MB/s eta 0:00:01\r\u001b[K     |██████████████████▋             | 389 kB 8.5 MB/s eta 0:00:01\r\u001b[K     |███████████████████▏            | 399 kB 8.5 MB/s eta 0:00:01\r\u001b[K     |███████████████████▋            | 409 kB 8.5 MB/s eta 0:00:01\r\u001b[K     |████████████████████            | 419 kB 8.5 MB/s eta 0:00:01\r\u001b[K     |████████████████████▋           | 430 kB 8.5 MB/s eta 0:00:01\r\u001b[K     |█████████████████████           | 440 kB 8.5 MB/s eta 0:00:01\r\u001b[K     |█████████████████████▋          | 450 kB 8.5 MB/s eta 0:00:01\r\u001b[K     |██████████████████████          | 460 kB 8.5 MB/s eta 0:00:01\r\u001b[K     |██████████████████████▌         | 471 kB 8.5 MB/s eta 0:00:01\r\u001b[K     |███████████████████████         | 481 kB 8.5 MB/s eta 0:00:01\r\u001b[K     |███████████████████████▌        | 491 kB 8.5 MB/s eta 0:00:01\r\u001b[K     |████████████████████████        | 501 kB 8.5 MB/s eta 0:00:01\r\u001b[K     |████████████████████████▌       | 512 kB 8.5 MB/s eta 0:00:01\r\u001b[K     |█████████████████████████       | 522 kB 8.5 MB/s eta 0:00:01\r\u001b[K     |█████████████████████████▌      | 532 kB 8.5 MB/s eta 0:00:01\r\u001b[K     |██████████████████████████      | 542 kB 8.5 MB/s eta 0:00:01\r\u001b[K     |██████████████████████████▌     | 552 kB 8.5 MB/s eta 0:00:01\r\u001b[K     |███████████████████████████     | 563 kB 8.5 MB/s eta 0:00:01\r\u001b[K     |███████████████████████████▍    | 573 kB 8.5 MB/s eta 0:00:01\r\u001b[K     |████████████████████████████    | 583 kB 8.5 MB/s eta 0:00:01\r\u001b[K     |████████████████████████████▍   | 593 kB 8.5 MB/s eta 0:00:01\r\u001b[K     |█████████████████████████████   | 604 kB 8.5 MB/s eta 0:00:01\r\u001b[K     |█████████████████████████████▍  | 614 kB 8.5 MB/s eta 0:00:01\r\u001b[K     |██████████████████████████████  | 624 kB 8.5 MB/s eta 0:00:01\r\u001b[K     |██████████████████████████████▍ | 634 kB 8.5 MB/s eta 0:00:01\r\u001b[K     |██████████████████████████████▉ | 645 kB 8.5 MB/s eta 0:00:01\r\u001b[K     |███████████████████████████████▍| 655 kB 8.5 MB/s eta 0:00:01\r\u001b[K     |███████████████████████████████▉| 665 kB 8.5 MB/s eta 0:00:01\r\u001b[K     |████████████████████████████████| 668 kB 8.5 MB/s \n",
            "\u001b[K     |████████████████████████████████| 84 kB 2.5 MB/s \n",
            "\u001b[K     |████████████████████████████████| 53 kB 2.2 MB/s \n",
            "\u001b[K     |████████████████████████████████| 211 kB 76.3 MB/s \n",
            "\u001b[K     |████████████████████████████████| 255 kB 71.5 MB/s \n",
            "\u001b[K     |████████████████████████████████| 1.1 MB 70.7 MB/s \n",
            "\u001b[K     |████████████████████████████████| 2.0 MB 63.8 MB/s \n",
            "\u001b[K     |████████████████████████████████| 54 kB 2.9 MB/s \n",
            "\u001b[K     |████████████████████████████████| 94 kB 912 kB/s \n",
            "\u001b[K     |████████████████████████████████| 144 kB 87.8 MB/s \n",
            "\u001b[K     |████████████████████████████████| 271 kB 90.0 MB/s \n",
            "\u001b[K     |████████████████████████████████| 10.9 MB 77.5 MB/s \n",
            "\u001b[K     |████████████████████████████████| 58 kB 6.3 MB/s \n",
            "\u001b[K     |████████████████████████████████| 79 kB 8.4 MB/s \n",
            "\u001b[K     |████████████████████████████████| 43 kB 2.3 MB/s \n",
            "\u001b[K     |████████████████████████████████| 3.6 MB 89.3 MB/s \n",
            "\u001b[K     |████████████████████████████████| 61 kB 547 kB/s \n",
            "\u001b[K     |████████████████████████████████| 856 kB 70.2 MB/s \n",
            "\u001b[K     |████████████████████████████████| 58 kB 7.0 MB/s \n",
            "\u001b[?25h  Building wheel for ffmpy (setup.py) ... \u001b[?25l\u001b[?25hdone\n",
            "  Building wheel for python-multipart (setup.py) ... \u001b[?25l\u001b[?25hdone\n"
          ]
        }
      ]
    },
    {
      "cell_type": "code",
      "source": [
        "# Importing each model from hdf5 files on Google Drive\n",
        "\n",
        "model1 = tf.keras.models.load_model(\"/content/drive/MyDrive/model-col-1.hdf5\")\n",
        "model2 = tf.keras.models.load_model(\"/content/drive/MyDrive/model-col-2.hdf5\")\n",
        "model3 = tf.keras.models.load_model(\"/content/drive/MyDrive/model-col-3.hdf5\")"
      ],
      "metadata": {
        "id": "RoIHehjDFXxD"
      },
      "id": "RoIHehjDFXxD",
      "execution_count": null,
      "outputs": []
    },
    {
      "cell_type": "code",
      "source": [
        "# This cells calls the Gradio interface and deploys a front-end when run \n",
        "\n",
        "import gradio as gr\n",
        "\n",
        "def gradioBridge(certainty, function):\n",
        "  predictions = modPredict(certainty, function)\n",
        "  output = \"\"\n",
        "  output = output + \"CWE-119: \" + str(predictions[0] == 1) + \"! Improper Restriction of Operations within the Bounds of a Memory Buffer\\n\"\n",
        "  output = output + \"CWE-120: \" + str(predictions[1] == 1) + \"! Buffer Copy without Checking Size of Input\\n\"\n",
        "  output = output + \"CWE-469: \" + str(predictions[2] == 1) + \"! Use of Pointer Subtraction to Determine Size\\n\"\n",
        "  return output\n",
        "  \n",
        "\n",
        "def modPredict(certainty, function):\n",
        "  certainty = certainty/100\n",
        "  function = tokenizer.texts_to_sequences([function])\n",
        "  function = function[0] \n",
        "  x_function = tf.keras.preprocessing.sequence.pad_sequences([function], \n",
        "                                    maxlen=500,\n",
        "                                    padding='post')\n",
        "  x_function = x_function[0]\n",
        "  x_function = np.array([x_function])\n",
        "  return ((model1.predict([x_function]) > certainty).astype(\"int32\")[0][0],\n",
        "          (model2.predict([x_function]) > certainty).astype(\"int32\")[0][0],\n",
        "          (model3.predict([x_function]) > certainty).astype(\"int32\")[0][0])\n",
        "\n",
        "gr.Interface(\n",
        "    fn = gradioBridge,\n",
        "    inputs=[\n",
        "            gr.inputs.Slider(30,70, step=5, default=50, label=\"Model Certainty (%)\"),\n",
        "            gr.inputs.Textbox(type=\"str\", default = \"\", label=\"Insert function\", lines=20)\n",
        "    ],\n",
        "    outputs=\"text\",\n",
        "    title=\"Source Code Analyser\",\n",
        "    allow_flagging=\"never\"\n",
        ").launch(debug=True)\n"
      ],
      "metadata": {
        "id": "226WLOsGxfcZ"
      },
      "id": "226WLOsGxfcZ",
      "execution_count": null,
      "outputs": []
    },
    {
      "cell_type": "code",
      "source": [
        "# Load individual models with this cell \n",
        "model = tf.keras.models.load_model(\"/content/drive/MyDrive/model-col-1.hdf5\")"
      ],
      "metadata": {
        "id": "CysTy23xKXZh"
      },
      "id": "CysTy23xKXZh",
      "execution_count": 5,
      "outputs": []
    },
    {
      "cell_type": "code",
      "execution_count": null,
      "metadata": {
        "id": "47b50dc0"
      },
      "outputs": [],
      "source": [
        "# Keras Model architecture setup \n",
        "\n",
        "weights = np.random.normal(size=(10000, 10),scale=0.01)\n",
        "\n",
        "model = tf.keras.Sequential()\n",
        "model.add(tf.keras.layers.Embedding(input_dim = 10000,\n",
        "                                    output_dim = 10,\n",
        "                                    weights=([weights]),\n",
        "                                    input_length = 500))\n",
        "\n",
        "model.add(tf.keras.layers.Convolution1D(filters=128, kernel_size=(9), padding='same'))\n",
        "model.add(tf.keras.layers.Activation(\"relu\"))\n",
        "model.add(tf.keras.layers.MaxPool1D(pool_size=4))\n",
        "\n",
        "model.add(tf.keras.layers.Convolution1D(filters=256, kernel_size=(9), padding='same'))\n",
        "model.add(tf.keras.layers.Activation(\"relu\"))\n",
        "model.add(tf.keras.layers.MaxPool1D(pool_size=4))\n",
        "\n",
        "model.add(tf.keras.layers.Dropout(0.5))\n",
        "model.add(tf.keras.layers.Flatten())\n",
        "\n",
        "model.add(tf.keras.layers.Dense(64, activation='relu'))\n",
        "model.add(tf.keras.layers.Dense(1, activation='sigmoid'))\n",
        "\n",
        "optimizer = tf.keras.optimizers.Adam(lr=0.003)\n",
        "model.compile(optimizer=optimizer, loss='binary_crossentropy', metrics=['accuracy'])"
      ],
      "id": "47b50dc0"
    },
    {
      "cell_type": "code",
      "source": [
        "# Load and open TensorBoard via TensorFlow\n",
        "\n",
        "%load_ext tensorboard\n",
        "%tensorboard --logdir '/content/drive/MyDrive/project-callback/'"
      ],
      "metadata": {
        "id": "Tg5SJ6jFQU_D"
      },
      "id": "Tg5SJ6jFQU_D",
      "execution_count": null,
      "outputs": []
    },
    {
      "cell_type": "code",
      "execution_count": null,
      "metadata": {
        "id": "140c991a"
      },
      "outputs": [],
      "source": [
        "log_dir = '/content/drive/MyDrive/project-callback/'  \n",
        "tensorboard_callback = tf.keras.callbacks.TensorBoard(log_dir=log_dir, histogram_freq=1,write_graph=True, write_images=True)\n",
        "saveState = '/content/drive/MyDrive/project-callback/model1-at-epoch-{epoch:02d}.hdf5'    # Saves model copy after a specific epoch \n",
        "model_checkpoint = tf.keras.callbacks.ModelCheckpoint(filepath=saveState, \n",
        "                                                      monitor=\"val_loss\",\n",
        "                                                      save_best_only=True, \n",
        "                                                      save_freq='epoch', \n",
        "                                                      verbose=1)"
      ],
      "id": "140c991a"
    },
    {
      "cell_type": "code",
      "execution_count": null,
      "metadata": {
        "id": "18fad7ec"
      },
      "outputs": [],
      "source": [
        "# Training cell\n",
        "# Change column value for different labels (metrics)\n",
        "# Verbosity mode 2 to see progress after each epoch\n",
        "\n",
        "colNo = 1\n",
        "model.fit(x = x_train,\n",
        "          y = train.iloc[:,colNo].to_numpy(),\n",
        "          validation_data = (x_validate, validate.iloc[:,colNo].to_numpy()),\n",
        "          epochs=30,\n",
        "          batch_size=256, \n",
        "          verbose=2,    \n",
        "          class_weight= {0: 1., 1: 2.},\n",
        "          callbacks=[model_checkpoint,tensorboard_callback]   # not necessary, but advised\n",
        "          )\n"
      ],
      "id": "18fad7ec"
    },
    {
      "cell_type": "code",
      "source": [
        "# Produce Model Results here\n",
        "\n",
        "col = 1\n",
        "\n",
        "y_test = test.iloc[:,col].to_numpy()\n",
        "\n",
        "predicted = (model.predict(x_test) > 0.5).astype(\"int32\")                                             \n",
        "confusion = sklearn.metrics.confusion_matrix(y_true=y_test, y_pred=predicted)\n",
        "\n",
        "tn, fp, fn, tp = confusion.ravel()\n",
        "print('\\nTP:',tp); print('FP:',fp); print('TN:',tn); print('FN:',fn)"
      ],
      "metadata": {
        "id": "BXyvxHORLRpk"
      },
      "id": "BXyvxHORLRpk",
      "execution_count": null,
      "outputs": []
    },
    {
      "cell_type": "code",
      "source": [
        "# COL 1 /// CWE119     \n",
        "import seaborn as sns\n",
        "matrix_df = pd.DataFrame(confusion)\n",
        "plt.figure(figsize=(10,7))\n",
        "sns.heatmap(matrix_df, annot=True, cmap='Reds', fmt='g', vmax=4000)\n",
        "plt.title('Confusion Matrix for CWE-119')\n",
        "plt.ylabel('Actual')\n",
        "plt.xlabel('Predicted')\n",
        "plt.show()"
      ],
      "metadata": {
        "colab": {
          "base_uri": "https://localhost:8080/",
          "height": 458
        },
        "id": "nrPnrIbjNWUF",
        "outputId": "3c590a0d-6dd4-42e1-8674-0495d078e62e"
      },
      "id": "nrPnrIbjNWUF",
      "execution_count": null,
      "outputs": [
        {
          "output_type": "display_data",
          "data": {
            "text/plain": [
              "<Figure size 720x504 with 2 Axes>"
            ],
            "image/png": "[encoded data removed]"
          },
          "metadata": {
            "needs_background": "light"
          }
        }
      ]
    },
    {
      "cell_type": "code",
      "source": [
        "# COL2 /// CWE120 \n",
        "\n",
        "import seaborn as sns\n",
        "matrix_df = pd.DataFrame(confusion)\n",
        "plt.figure(figsize=(10,7))\n",
        "sns.heatmap(matrix_df, annot=True, cmap='Reds', fmt='g', vmax=7000)\n",
        "plt.title('Confusion Matrix for CWE-120')\n",
        "plt.ylabel('Actual')\n",
        "plt.xlabel('Predicted')\n",
        "plt.show()"
      ],
      "metadata": {
        "colab": {
          "base_uri": "https://localhost:8080/",
          "height": 458
        },
        "id": "Yg7W3Z7MKFQg",
        "outputId": "cd7ec18d-0694-49a9-eec5-a537e07fe1fc"
      },
      "id": "Yg7W3Z7MKFQg",
      "execution_count": null,
      "outputs": [
        {
          "output_type": "display_data",
          "data": {
            "text/plain": [
              "<Figure size 720x504 with 2 Axes>"
            ],
            "image/png": "[encoded data removed]"
          },
          "metadata": {
            "needs_background": "light"
          }
        }
      ]
    },
    {
      "cell_type": "code",
      "source": [
        "# COL 3 /// CWE469      \n",
        "\n",
        "import seaborn as sns\n",
        "matrix_df = pd.DataFrame(confusion)\n",
        "plt.figure(figsize=(10,7))\n",
        "sns.heatmap(matrix_df, annot=True, cmap='Reds', fmt='g', vmax=400)\n",
        "plt.title('Confusion Matrix for CWE-469')\n",
        "plt.ylabel('Actual')\n",
        "plt.xlabel('Predicted')\n",
        "plt.show()"
      ],
      "metadata": {
        "colab": {
          "base_uri": "https://localhost:8080/",
          "height": 458
        },
        "id": "Cn1aQS03RVDU",
        "outputId": "e71f0fa5-bd70-4bbf-dbe8-94ab5d633618"
      },
      "id": "Cn1aQS03RVDU",
      "execution_count": null,
      "outputs": [
        {
          "output_type": "display_data",
          "data": {
            "text/plain": [
              "<Figure size 720x504 with 2 Axes>"
            ],
            "image/png": "[encoded data removed]"
          },
          "metadata": {
            "needs_background": "light"
          }
        }
      ]
    },
    {
      "cell_type": "code",
      "source": [
        "import matplotlib.pyplot as plt\n",
        "fig = plt.figure()\n",
        "\n",
        "ax = fig.add_axes([0,0,1,1])\n",
        "ax.set_ylabel(\"Accuracy on Test dataset\")\n",
        "ax.set_xlabel(\"Metric\")\n",
        "metrics = ['CWE-119', 'CWE-120', 'CWE-469']\n",
        "scores = [97.1, 94.2, 99.7]\n",
        "ax.bar(metrics, scores, color=['red', 'green', 'blue'])\n",
        "plt.show()"
      ],
      "metadata": {
        "colab": {
          "base_uri": "https://localhost:8080/",
          "height": 350
        },
        "id": "d26L1Gc5fYqF",
        "outputId": "427fcb79-93ac-480d-bf98-4dd6027f0360"
      },
      "id": "d26L1Gc5fYqF",
      "execution_count": null,
      "outputs": [
        {
          "output_type": "display_data",
          "data": {
            "text/plain": [
              "<Figure size 432x288 with 1 Axes>"
            ],
            "image/png": "[encoded data removed]"
          },
          "metadata": {
            "needs_background": "light"
          }
        }
      ]
    },
    {
      "cell_type": "code",
      "source": [
        "# This cell was used to find False Positives in the test data set.\n",
        "# Warning - use incrementally, crashes likely.\n",
        "x = 0\n",
        "while x < 120000:\n",
        "  if test['CWE-119'][x] == 0:\n",
        "    function = test['functionSource'][x].decode('utf-8')\n",
        "    function = tokenizer.texts_to_sequences([function])\n",
        "    function = function[0] \n",
        "    x_function = tf.keras.preprocessing.sequence.pad_sequences([function], \n",
        "                                        maxlen=500,\n",
        "                                        padding='post')\n",
        "    x_function = x_function[0]\n",
        "    x_function = np.array([x_function])\n",
        "    if(model.predict([x_function]) > 0.5).astype(\"int32\")[0][0] == 1:\n",
        "      print(x)\n",
        "      break\n",
        "  x+=1"
      ],
      "metadata": {
        "id": "lZFbA2VY-Obb"
      },
      "id": "lZFbA2VY-Obb",
      "execution_count": null,
      "outputs": []
    },
    {
      "cell_type": "code",
      "source": [
        "# This cell prints decoded functions found in the testing dataset\n",
        "print(test['functionSource'][63].decode('utf-8'))"
      ],
      "metadata": {
        "colab": {
          "base_uri": "https://localhost:8080/"
        },
        "id": "l9ETkHb2KM8W",
        "outputId": "8015f0bc-1d39-40b2-c15c-47d62646b427"
      },
      "id": "l9ETkHb2KM8W",
      "execution_count": null,
      "outputs": [
        {
          "output_type": "stream",
          "name": "stdout",
          "text": [
            "get_nth_ancestor(const char *name, int len,\n",
            "\t\t\t    unsigned char *result, int generation)\n",
            "{\n",
            "\tunsigned char sha1[20];\n",
            "\tint ret = get_sha1_1(name, len, sha1);\n",
            "\tif (ret)\n",
            "\t\treturn ret;\n",
            "\n",
            "\twhile (generation--) {\n",
            "\t\tstruct commit *commit = lookup_commit_reference(sha1);\n",
            "\n",
            "\t\tif (!commit || parse_commit(commit) || !commit->parents)\n",
            "\t\t\treturn -1;\n",
            "\t\thashcpy(sha1, commit->parents->item->object.sha1);\n",
            "\t}\n",
            "\thashcpy(result, sha1);\n",
            "\treturn 0;\n",
            "}\n"
          ]
        }
      ]
    },
    {
      "cell_type": "code",
      "source": [
        "# This cell prints model predictions for functions \n",
        "\n",
        "index = 72069\n",
        "\n",
        "function = test['functionSource'][index].decode('utf-8')\n",
        "function = tokenizer.texts_to_sequences([function])\n",
        "function = function[0] \n",
        "x_function = tf.keras.preprocessing.sequence.pad_sequences([function], \n",
        "                                    maxlen=500,\n",
        "                                    padding='post')\n",
        "x_function = x_function[0]\n",
        "x_function = np.array([x_function])\n",
        "print(\"Model Prediction:\", (model.predict([x_function]) > 0.5).astype(\"int32\")[0][0],\n",
        "      \"Actual:\", test['CWE-119'][index])\n",
        "print(test['functionSource'][index].decode('utf-8'))"
      ],
      "metadata": {
        "id": "ga4zgyNhIIS1"
      },
      "id": "ga4zgyNhIIS1",
      "execution_count": null,
      "outputs": []
    },
    {
      "cell_type": "code",
      "source": [
        "# This cell was used to identify all labelled vulnerabilities for Cols 1 & 2\n",
        "# Cols 1 and 2 (CWE 119 & 120) had the most examples \n",
        "indicesCol1 = []\n",
        "indicesCol2 = []\n",
        "\n",
        "positiveLabels = []\n",
        "index = 0\n",
        "for _ in range(50000):\n",
        "  if test['CWE-119'][index] == 1:\n",
        "    indicesCol1.append(index)\n",
        "  if test['CWE-120'][index] == 1:\n",
        "    indicesCol2.append(index)\n",
        "  index+=1\n",
        "print(\"CWE-119\", indicesCol1)\n",
        "print(\"CWE-120\", indicesCol2)"
      ],
      "metadata": {
        "colab": {
          "base_uri": "https://localhost:8080/"
        },
        "id": "bLwxHNWowDPc",
        "outputId": "7cd4ce74-f12e-4c79-d454-d8580e8712ab"
      },
      "id": "bLwxHNWowDPc",
      "execution_count": null,
      "outputs": [
        {
          "output_type": "stream",
          "name": "stdout",
          "text": [
            "CWE-119 [49, 63, 103, 108, 132, 143, 192, 228, 333, 364, 546, 547, 678, 679, 682, 743, 894, 937, 1030, 1051, 1055, 1100, 1128, 1253, 1292, 1339, 1430, 1442, 1475, 1490, 1534, 1566, 1567, 1589, 1602, 1625, 1693, 1749, 1770, 1771, 1775, 1789, 1793, 1821, 1868, 1906, 2074, 2096, 2160, 2184, 2326, 2357, 2520, 2533, 2569, 2584, 2594, 2675, 2682, 2706, 2708, 2716, 2718, 2727, 2772, 2821, 2872, 3006, 3023, 3025, 3045, 3087, 3299, 3335, 3352, 3389, 3406, 3523, 3540, 3636, 3664, 3790, 3818, 4085, 4088, 4115, 4126, 4218, 4280, 4341, 4431, 4492, 4495, 4497, 4511, 4521, 4526, 4543, 4764, 4789, 4865, 4994, 5004, 5027, 5045, 5068, 5069, 5113, 5124, 5195, 5214, 5225, 5242, 5469, 5494, 5501, 5523, 5555, 5558, 5604, 5621, 5712, 5802, 5857, 5914, 6008, 6282, 6405, 6431, 6504, 6548, 6607, 6620, 6675, 6755, 6756, 6870, 6903, 6942, 7009, 7096, 7113, 7175, 7196, 7239, 7272, 7318, 7503, 7519, 7660, 7750, 7779, 7925, 8029, 8050, 8145, 8278, 8299, 8302, 8335, 8377, 8459, 8478, 8538, 8654, 8734, 8797, 8826, 8920, 8994, 9018, 9133, 9138, 9188, 9252, 9267, 9324, 9354, 9364, 9384, 9409, 9422, 9452, 9514, 9535, 9643, 9736, 9739, 9860, 9939, 9960, 9977, 10002, 10054, 10108, 10113, 10151, 10162, 10586, 10619, 10651, 10652, 10663, 10699, 10882, 10993, 11019, 11092, 11143, 11213, 11314, 11340, 11356, 11428, 11467, 11471, 11481, 11487, 11612, 11712, 11802, 11848, 11870, 11961, 12022, 12034, 12133, 12151, 12203, 12233, 12240, 12295, 12330, 12336, 12434, 12622, 12633, 12657, 12672, 12743, 12794, 12795, 12829, 12939, 12968, 13022, 13091, 13118, 13128, 13143, 13147, 13189, 13290, 13302, 13406, 13503, 13545, 13552, 13622, 13756, 13817, 13861, 13924, 14073, 14086, 14144, 14209, 14214, 14252, 14309, 14317, 14319, 14447, 14464, 14521, 14574, 14621, 14875, 14932, 14938, 15109, 15196, 15237, 15280, 15338, 15339, 15451, 15620, 15641, 15671, 15719, 15724, 15730, 15920, 15936, 15958, 16036, 16070, 16173, 16197, 16295, 16408, 16494, 16532, 16583, 16691, 16720, 16723, 16855, 16860, 16934, 16970, 17034, 17049, 17067, 17092, 17105, 17154, 17234, 17356, 17515, 17658, 17662, 17696, 17744, 17781, 17951, 17953, 17957, 17974, 17998, 18007, 18073, 18086, 18095, 18133, 18134, 18273, 18286, 18349, 18355, 18394, 18526, 18597, 18652, 18680, 18760, 18838, 18852, 18911, 19009, 19027, 19168, 19191, 19202, 19225, 19256, 19271, 19318, 19345, 19491, 19515, 19519, 19622, 19686, 19691, 19738, 19882, 19966, 19995, 20012, 20055, 20089, 20094, 20172, 20178, 20184, 20201, 20279, 20376, 20391, 20452, 20460, 20486, 20517, 20555, 20562, 20632, 20649, 20755, 20778, 20813, 20896, 20921, 20936, 20946, 20950, 20964, 20987, 21254, 21336, 21345, 21390, 21394, 21421, 21536, 21672, 21711, 21760, 21776, 21849, 21876, 21892, 21902, 21982, 22012, 22017, 22033, 22044, 22168, 22239, 22256, 22303, 22468, 22564, 22596, 22644, 22707, 22750, 22807, 22833, 22956, 22979, 22985, 23002, 23004, 23052, 23132, 23342, 23368, 23538, 23557, 23658, 23667, 23719, 23771, 23886, 23984, 23995, 23997, 24035, 24083, 24157, 24208, 24224, 24250, 24309, 24344, 24353, 24453, 24620, 24631, 24686, 24748, 24781, 24846, 24875, 24887, 24989, 25067, 25211, 25234, 25235, 25247, 25315, 25386, 25413, 25552, 25566, 25584, 25777, 25812, 25866, 26015, 26088, 26223, 26304, 26346, 26373, 26397, 26486, 26514, 26520, 26610, 26630, 26643, 26757, 26771, 26794, 26808, 26837, 27003, 27036, 27144, 27233, 27269, 27307, 27384, 27513, 27534, 27549, 27593, 27609, 27725, 27754, 27755, 27770, 27817, 27916, 27966, 28075, 28129, 28147, 28169, 28179, 28200, 28385, 28395, 28406, 28494, 28558, 28574, 28587, 28610, 28710, 28717, 28841, 28885, 28931, 28943, 28982, 29023, 29025, 29083, 29154, 29275, 29283, 29326, 29353, 29394, 29503, 29574, 29641, 29669, 29701, 29704, 29713, 29788, 29812, 29868, 29933, 30021, 30023, 30034, 30047, 30059, 30093, 30169, 30219, 30317, 30437, 30483, 30532, 30657, 30686, 30710, 30716, 30799, 30803, 30809, 30841, 30857, 30906, 30915, 30999, 31033, 31053, 31078, 31104, 31113, 31250, 31355, 31363, 31386, 31393, 31480, 31482, 31496, 31548, 31721, 31748, 31769, 31779, 31887, 31900, 31990, 32006, 32018, 32051, 32055, 32161, 32211, 32274, 32330, 32356, 32413, 32433, 32608, 32657, 32697, 32750, 32804, 32839, 32894, 32903, 32950, 33172, 33173, 33181, 33193, 33242, 33276, 33320, 33328, 33388, 33403, 33434, 33628, 33667, 33732, 33744, 33942, 33945, 33948, 33986, 34080, 34143, 34151, 34177, 34234, 34250, 34292, 34408, 34457, 34518, 34703, 34704, 34723, 34729, 34740, 34743, 34774, 34856, 34872, 34873, 34954, 35011, 35067, 35068, 35118, 35157, 35228, 35335, 35348, 35383, 35394, 35426, 35500, 35684, 35741, 35782, 35794, 35878, 35911, 35953, 36030, 36063, 36097, 36115, 36224, 36231, 36238, 36240, 36246, 36305, 36320, 36332, 36335, 36340, 36416, 36426, 36549, 36566, 36590, 36595, 36640, 36695, 36705, 36711, 36797, 36835, 36860, 36861, 36984, 37039, 37078, 37086, 37151, 37155, 37195, 37205, 37333, 37355, 37357, 37382, 37411, 37422, 37426, 37502, 37636, 37662, 37674, 37720, 37774, 37855, 37857, 38018, 38113, 38154, 38161, 38222, 38275, 38345, 38430, 38451, 38503, 38514, 38524, 38666, 38669, 38725, 38762, 38797, 38809, 38870, 38916, 38950, 38953, 39006, 39030, 39062, 39096, 39168, 39207, 39410, 39473, 39499, 39542, 39731, 39765, 39784, 39797, 39798, 39865, 39904, 39970, 40035, 40046, 40121, 40140, 40255, 40284, 40422, 40425, 40499, 40517, 40567, 40629, 40642, 40663, 40715, 40884, 40992, 41027, 41177, 41262, 41283, 41309, 41348, 41375, 41460, 41501, 41513, 41655, 41811, 41880, 41888, 41909, 42005, 42008, 42032, 42061, 42076, 42261, 42386, 42492, 42506, 42520, 42556, 42593, 42615, 42644, 42758, 42776, 42876, 42972, 43026, 43030, 43045, 43050, 43136, 43177, 43323, 43344, 43353, 43435, 43531, 43550, 43564, 43570, 43621, 43624, 43722, 43781, 43804, 43892, 43900, 43941, 43998, 44050, 44103, 44122, 44134, 44224, 44374, 44536, 44543, 44548, 44589, 44662, 44676, 44703, 44876, 44891, 44901, 44995, 45039, 45068, 45080, 45123, 45182, 45277, 45369, 45380, 45383, 45388, 45402, 45416, 45434, 45613, 45724, 45734, 45824, 45966, 45967, 46017, 46057, 46094, 46119, 46151, 46154, 46224, 46233, 46345, 46443, 46522, 46528, 46597, 46638, 46639, 46664, 46740, 46799, 46826, 46849, 46904, 46957, 46962, 46965, 46972, 46977, 47045, 47149, 47172, 47312, 47464, 47514, 47517, 47543, 47551, 47578, 47750, 47825, 47862, 47933, 47946, 48033, 48095, 48110, 48122, 48243, 48306, 48325, 48487, 48577, 48583, 48615, 48724, 48945, 48989, 49046, 49175, 49459, 49523, 49548, 49571, 49711, 49725, 49849, 49937]\n",
            "CWE-120 [49, 63, 68, 93, 103, 108, 124, 132, 143, 147, 150, 192, 228, 272, 290, 333, 364, 412, 524, 543, 546, 547, 556, 559, 572, 620, 678, 679, 682, 684, 697, 728, 743, 766, 848, 864, 881, 894, 937, 998, 1002, 1030, 1051, 1055, 1100, 1128, 1162, 1223, 1228, 1253, 1292, 1336, 1339, 1357, 1430, 1442, 1475, 1490, 1534, 1566, 1567, 1589, 1602, 1625, 1642, 1651, 1693, 1738, 1749, 1770, 1771, 1775, 1780, 1789, 1793, 1821, 1868, 1906, 1914, 2074, 2092, 2096, 2126, 2160, 2175, 2180, 2181, 2184, 2281, 2326, 2338, 2354, 2357, 2374, 2378, 2390, 2399, 2420, 2426, 2495, 2520, 2533, 2569, 2573, 2584, 2594, 2675, 2682, 2706, 2708, 2716, 2718, 2727, 2772, 2792, 2821, 2854, 2872, 2925, 2959, 2973, 2977, 3006, 3023, 3025, 3045, 3071, 3087, 3171, 3201, 3203, 3216, 3274, 3299, 3335, 3352, 3362, 3389, 3406, 3451, 3523, 3540, 3636, 3664, 3771, 3790, 3794, 3818, 3855, 3899, 3919, 3953, 4032, 4059, 4085, 4088, 4090, 4115, 4126, 4147, 4156, 4200, 4218, 4264, 4266, 4280, 4341, 4431, 4477, 4486, 4490, 4492, 4495, 4497, 4511, 4521, 4526, 4543, 4556, 4564, 4635, 4643, 4716, 4764, 4772, 4781, 4789, 4834, 4865, 4889, 4957, 4975, 4984, 4994, 5004, 5027, 5045, 5068, 5069, 5110, 5113, 5124, 5188, 5195, 5214, 5216, 5220, 5225, 5227, 5242, 5250, 5274, 5302, 5305, 5318, 5364, 5382, 5469, 5485, 5494, 5501, 5523, 5555, 5558, 5604, 5621, 5623, 5644, 5677, 5712, 5802, 5857, 5906, 5914, 5918, 5968, 5986, 6008, 6024, 6032, 6155, 6198, 6204, 6282, 6286, 6288, 6319, 6354, 6405, 6431, 6470, 6504, 6510, 6548, 6607, 6620, 6675, 6723, 6743, 6755, 6756, 6776, 6832, 6850, 6870, 6903, 6942, 6981, 7009, 7054, 7096, 7108, 7113, 7144, 7154, 7155, 7156, 7175, 7193, 7196, 7225, 7239, 7272, 7318, 7390, 7503, 7519, 7570, 7653, 7660, 7663, 7697, 7699, 7750, 7752, 7779, 7809, 7811, 7866, 7894, 7896, 7925, 7992, 8029, 8043, 8050, 8063, 8077, 8096, 8145, 8254, 8273, 8278, 8299, 8300, 8302, 8306, 8320, 8335, 8362, 8375, 8377, 8459, 8468, 8478, 8490, 8520, 8538, 8654, 8711, 8731, 8734, 8740, 8797, 8822, 8826, 8870, 8881, 8920, 8991, 8994, 9018, 9032, 9037, 9133, 9138, 9188, 9198, 9252, 9267, 9324, 9354, 9364, 9376, 9384, 9409, 9422, 9452, 9501, 9514, 9529, 9535, 9597, 9643, 9736, 9739, 9754, 9760, 9860, 9919, 9939, 9960, 9976, 9977, 9990, 10002, 10009, 10021, 10039, 10046, 10054, 10080, 10108, 10113, 10151, 10162, 10205, 10206, 10296, 10376, 10393, 10422, 10462, 10586, 10610, 10619, 10620, 10651, 10652, 10657, 10663, 10675, 10696, 10699, 10711, 10739, 10769, 10776, 10840, 10882, 10901, 10950, 10993, 11019, 11050, 11066, 11092, 11110, 11143, 11213, 11218, 11221, 11295, 11314, 11328, 11332, 11340, 11356, 11382, 11407, 11428, 11467, 11471, 11481, 11487, 11550, 11565, 11588, 11612, 11632, 11712, 11802, 11848, 11858, 11870, 11897, 11927, 11961, 11982, 12019, 12022, 12025, 12034, 12046, 12051, 12133, 12151, 12166, 12203, 12233, 12240, 12295, 12330, 12336, 12337, 12348, 12359, 12367, 12424, 12434, 12442, 12451, 12531, 12533, 12599, 12600, 12606, 12622, 12633, 12657, 12672, 12677, 12702, 12723, 12726, 12743, 12776, 12794, 12795, 12800, 12802, 12803, 12810, 12829, 12834, 12843, 12925, 12929, 12939, 12968, 13022, 13085, 13091, 13095, 13113, 13118, 13128, 13132, 13143, 13147, 13176, 13189, 13255, 13290, 13302, 13345, 13391, 13406, 13409, 13443, 13447, 13458, 13470, 13503, 13545, 13552, 13602, 13614, 13622, 13692, 13707, 13736, 13756, 13767, 13791, 13799, 13817, 13831, 13861, 13881, 13883, 13924, 13930, 13943, 13992, 13993, 14023, 14073, 14086, 14093, 14144, 14199, 14209, 14214, 14236, 14252, 14285, 14309, 14317, 14319, 14447, 14464, 14521, 14538, 14539, 14544, 14549, 14574, 14621, 14688, 14729, 14737, 14792, 14834, 14852, 14875, 14932, 14938, 14961, 15055, 15094, 15109, 15159, 15161, 15176, 15178, 15196, 15237, 15280, 15330, 15338, 15339, 15425, 15427, 15451, 15494, 15601, 15610, 15620, 15624, 15641, 15649, 15671, 15719, 15724, 15730, 15747, 15769, 15815, 15825, 15834, 15864, 15920, 15936, 15958, 15983, 16036, 16055, 16070, 16145, 16158, 16173, 16197, 16295, 16310, 16345, 16372, 16401, 16408, 16444, 16494, 16523, 16532, 16547, 16552, 16577, 16583, 16656, 16691, 16704, 16717, 16720, 16723, 16775, 16776, 16784, 16844, 16855, 16858, 16860, 16926, 16934, 16959, 16961, 16970, 17034, 17049, 17067, 17092, 17103, 17105, 17154, 17197, 17234, 17356, 17366, 17412, 17484, 17492, 17497, 17515, 17586, 17613, 17658, 17662, 17673, 17686, 17696, 17737, 17740, 17744, 17781, 17825, 17827, 17833, 17869, 17951, 17953, 17957, 17974, 17988, 17995, 17998, 18007, 18011, 18049, 18055, 18061, 18073, 18081, 18085, 18086, 18089, 18095, 18122, 18133, 18134, 18214, 18231, 18273, 18286, 18297, 18310, 18349, 18355, 18394, 18447, 18456, 18497, 18526, 18591, 18597, 18652, 18680, 18738, 18760, 18802, 18838, 18852, 18880, 18911, 18935, 18951, 18970, 19003, 19009, 19027, 19037, 19055, 19104, 19108, 19109, 19143, 19144, 19167, 19168, 19179, 19189, 19191, 19202, 19225, 19227, 19228, 19256, 19271, 19282, 19298, 19318, 19341, 19345, 19348, 19385, 19485, 19491, 19515, 19519, 19527, 19568, 19602, 19622, 19623, 19631, 19686, 19691, 19738, 19832, 19837, 19882, 19894, 19910, 19959, 19966, 19995, 20005, 20012, 20014, 20055, 20089, 20094, 20172, 20178, 20184, 20186, 20201, 20207, 20240, 20279, 20289, 20309, 20329, 20339, 20376, 20380, 20391, 20398, 20452, 20460, 20478, 20486, 20517, 20554, 20555, 20562, 20632, 20649, 20755, 20778, 20809, 20813, 20853, 20854, 20874, 20896, 20921, 20936, 20946, 20950, 20964, 20987, 21003, 21005, 21017, 21104, 21109, 21140, 21155, 21224, 21254, 21336, 21345, 21381, 21390, 21394, 21421, 21501, 21536, 21576, 21623, 21672, 21680, 21687, 21711, 21760, 21767, 21776, 21828, 21849, 21876, 21892, 21902, 21911, 21969, 21982, 22012, 22017, 22028, 22033, 22044, 22107, 22131, 22168, 22239, 22251, 22254, 22256, 22303, 22333, 22341, 22354, 22388, 22418, 22468, 22502, 22536, 22564, 22596, 22644, 22662, 22682, 22707, 22750, 22805, 22807, 22833, 22956, 22977, 22979, 22985, 22990, 22993, 23002, 23004, 23052, 23110, 23123, 23132, 23137, 23245, 23247, 23279, 23293, 23342, 23368, 23412, 23443, 23491, 23503, 23538, 23557, 23560, 23565, 23658, 23667, 23710, 23719, 23727, 23744, 23771, 23851, 23886, 23896, 23934, 23947, 23984, 23995, 23997, 24035, 24045, 24049, 24051, 24066, 24083, 24099, 24105, 24148, 24157, 24208, 24224, 24250, 24309, 24344, 24353, 24453, 24579, 24596, 24620, 24631, 24632, 24643, 24686, 24748, 24781, 24814, 24846, 24875, 24886, 24887, 24899, 24915, 24950, 24971, 24989, 25067, 25134, 25211, 25234, 25235, 25247, 25315, 25386, 25389, 25413, 25426, 25471, 25514, 25543, 25552, 25566, 25571, 25584, 25634, 25777, 25792, 25794, 25812, 25866, 26015, 26047, 26088, 26160, 26161, 26223, 26232, 26252, 26290, 26293, 26304, 26346, 26373, 26397, 26440, 26486, 26514, 26520, 26610, 26630, 26642, 26643, 26678, 26716, 26757, 26771, 26794, 26803, 26808, 26837, 26935, 26964, 26968, 27003, 27036, 27080, 27144, 27233, 27269, 27289, 27307, 27359, 27384, 27513, 27534, 27549, 27575, 27591, 27593, 27609, 27672, 27703, 27722, 27725, 27754, 27755, 27762, 27767, 27770, 27817, 27822, 27853, 27916, 27966, 27968, 27974, 27984, 28075, 28082, 28129, 28133, 28147, 28169, 28179, 28200, 28244, 28275, 28385, 28395, 28406, 28425, 28450, 28494, 28520, 28529, 28549, 28558, 28574, 28580, 28587, 28610, 28710, 28717, 28749, 28759, 28832, 28841, 28846, 28849, 28860, 28879, 28885, 28931, 28943, 28946, 28969, 28972, 28982, 29001, 29023, 29025, 29083, 29092, 29133, 29154, 29183, 29190, 29199, 29275, 29283, 29326, 29353, 29373, 29394, 29464, 29473, 29503, 29565, 29574, 29587, 29641, 29656, 29669, 29701, 29704, 29713, 29728, 29749, 29754, 29788, 29812, 29835, 29868, 29884, 29907, 29933, 29934, 29967, 29969, 29989, 30021, 30023, 30024, 30034, 30047, 30059, 30068, 30084, 30093, 30169, 30219, 30235, 30257, 30267, 30317, 30343, 30373, 30384, 30401, 30424, 30437, 30483, 30492, 30532, 30554, 30562, 30650, 30657, 30671, 30686, 30710, 30716, 30746, 30753, 30799, 30803, 30809, 30816, 30841, 30857, 30906, 30915, 30941, 30978, 30985, 30989, 30999, 31033, 31053, 31078, 31104, 31108, 31109, 31113, 31149, 31190, 31250, 31323, 31355, 31363, 31386, 31393, 31401, 31480, 31482, 31496, 31497, 31548, 31589, 31592, 31649, 31696, 31719, 31721, 31748, 31769, 31779, 31801, 31883, 31887, 31900, 31966, 31990, 32006, 32018, 32051, 32055, 32125, 32161, 32190, 32211, 32231, 32271, 32274, 32297, 32330, 32356, 32413, 32433, 32608, 32609, 32657, 32697, 32730, 32750, 32757, 32804, 32813, 32839, 32894, 32903, 32950, 33064, 33078, 33108, 33131, 33156, 33172, 33173, 33181, 33183, 33193, 33242, 33276, 33320, 33328, 33361, 33373, 33388, 33403, 33407, 33434, 33450, 33526, 33592, 33628, 33636, 33650, 33667, 33715, 33732, 33744, 33787, 33841, 33852, 33870, 33901, 33942, 33945, 33948, 33964, 33972, 33986, 33998, 34061, 34080, 34110, 34143, 34151, 34177, 34234, 34250, 34275, 34292, 34297, 34333, 34346, 34390, 34408, 34409, 34429, 34457, 34469, 34482, 34518, 34528, 34619, 34703, 34704, 34723, 34729, 34732, 34740, 34743, 34774, 34846, 34856, 34862, 34868, 34872, 34873, 34918, 34922, 34954, 34999, 35011, 35067, 35068, 35118, 35157, 35182, 35200, 35228, 35335, 35348, 35383, 35394, 35426, 35500, 35580, 35628, 35659, 35684, 35692, 35695, 35741, 35782, 35794, 35795, 35837, 35878, 35911, 35953, 35959, 36030, 36063, 36097, 36099, 36115, 36138, 36224, 36231, 36238, 36240, 36246, 36285, 36305, 36320, 36332, 36335, 36340, 36351, 36393, 36416, 36426, 36443, 36468, 36507, 36543, 36549, 36552, 36566, 36590, 36595, 36627, 36640, 36695, 36705, 36711, 36729, 36797, 36816, 36835, 36860, 36861, 36915, 36984, 36986, 36999, 37039, 37069, 37078, 37086, 37151, 37154, 37155, 37195, 37205, 37225, 37227, 37285, 37295, 37333, 37355, 37357, 37359, 37382, 37389, 37411, 37422, 37426, 37441, 37479, 37502, 37546, 37609, 37614, 37636, 37662, 37674, 37686, 37719, 37720, 37731, 37774, 37846, 37855, 37857, 37859, 37868, 37944, 37945, 38018, 38082, 38113, 38134, 38154, 38161, 38219, 38222, 38275, 38298, 38316, 38345, 38391, 38404, 38430, 38451, 38503, 38514, 38524, 38569, 38601, 38645, 38660, 38666, 38669, 38688, 38692, 38709, 38725, 38745, 38762, 38782, 38797, 38801, 38809, 38821, 38824, 38829, 38862, 38870, 38897, 38916, 38950, 38953, 38997, 39006, 39030, 39062, 39096, 39168, 39189, 39207, 39251, 39330, 39404, 39410, 39473, 39478, 39499, 39503, 39542, 39593, 39610, 39688, 39731, 39735, 39763, 39765, 39784, 39797, 39798, 39830, 39865, 39874, 39904, 39919, 39970, 39997, 40035, 40046, 40105, 40121, 40140, 40225, 40255, 40284, 40363, 40422, 40425, 40429, 40456, 40467, 40499, 40517, 40567, 40628, 40629, 40642, 40663, 40667, 40715, 40869, 40870, 40884, 40892, 40898, 40918, 40958, 40992, 41009, 41027, 41030, 41132, 41168, 41177, 41262, 41283, 41287, 41292, 41309, 41327, 41348, 41375, 41378, 41396, 41460, 41479, 41501, 41513, 41561, 41577, 41615, 41655, 41677, 41786, 41811, 41836, 41880, 41888, 41909, 41984, 42005, 42008, 42028, 42032, 42052, 42061, 42076, 42149, 42157, 42187, 42199, 42261, 42307, 42314, 42324, 42386, 42412, 42428, 42480, 42492, 42506, 42520, 42556, 42593, 42615, 42630, 42644, 42747, 42749, 42758, 42776, 42836, 42876, 42972, 42986, 43026, 43030, 43045, 43050, 43067, 43080, 43110, 43128, 43136, 43150, 43177, 43183, 43258, 43280, 43323, 43344, 43353, 43394, 43415, 43435, 43443, 43489, 43506, 43531, 43532, 43550, 43564, 43570, 43621, 43624, 43660, 43664, 43671, 43722, 43781, 43804, 43845, 43863, 43892, 43900, 43903, 43921, 43932, 43941, 43983, 43998, 44022, 44050, 44103, 44122, 44134, 44224, 44271, 44291, 44314, 44374, 44386, 44536, 44543, 44548, 44564, 44580, 44589, 44662, 44676, 44703, 44772, 44807, 44869, 44876, 44891, 44901, 44995, 45028, 45039, 45067, 45068, 45080, 45123, 45182, 45193, 45213, 45277, 45357, 45369, 45371, 45380, 45383, 45386, 45388, 45402, 45409, 45416, 45434, 45562, 45567, 45613, 45632, 45704, 45724, 45734, 45736, 45824, 45866, 45947, 45966, 45967, 46017, 46057, 46092, 46094, 46119, 46120, 46151, 46154, 46224, 46231, 46233, 46244, 46277, 46345, 46350, 46378, 46443, 46451, 46454, 46494, 46496, 46522, 46528, 46578, 46597, 46638, 46639, 46664, 46740, 46790, 46799, 46826, 46839, 46849, 46904, 46906, 46925, 46957, 46962, 46965, 46972, 46977, 47045, 47068, 47078, 47131, 47149, 47172, 47191, 47202, 47204, 47312, 47315, 47464, 47514, 47517, 47532, 47543, 47551, 47565, 47578, 47614, 47675, 47740, 47750, 47825, 47840, 47842, 47862, 47933, 47946, 48029, 48033, 48077, 48095, 48102, 48110, 48122, 48243, 48306, 48325, 48411, 48429, 48434, 48472, 48487, 48489, 48526, 48577, 48583, 48615, 48646, 48669, 48699, 48724, 48741, 48760, 48878, 48932, 48945, 48954, 48965, 48974, 48989, 49031, 49046, 49107, 49157, 49175, 49176, 49225, 49231, 49282, 49336, 49376, 49424, 49440, 49459, 49484, 49502, 49523, 49548, 49568, 49571, 49608, 49618, 49711, 49725, 49732, 49825, 49849, 49911, 49937, 49949]\n"
          ]
        }
      ]
    }
  ],
  "metadata": {
    "colab": {
      "name": "Copy of Copy of HonsProject.ipynb",
      "provenance": [],
      "collapsed_sections": [],
      "machine_shape": "hm"
    },
    "kernelspec": {
      "display_name": "Python 3",
      "language": "python",
      "name": "python3"
    },
    "language_info": {
      "codemirror_mode": {
        "name": "ipython",
        "version": 3
      },
      "file_extension": ".py",
      "mimetype": "text/x-python",
      "name": "python",
      "nbconvert_exporter": "python",
      "pygments_lexer": "ipython3",
      "version": "3.8.8"
    },
    "accelerator": "GPU"
  },
  "nbformat": 4,
  "nbformat_minor": 5
}